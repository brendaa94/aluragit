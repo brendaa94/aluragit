{
  "nbformat": 4,
  "nbformat_minor": 0,
  "metadata": {
    "colab": {
      "provenance": [],
      "authorship_tag": "ABX9TyOO5TX4gebeH/SkPjaTOwqG",
      "include_colab_link": true
    },
    "kernelspec": {
      "name": "python3",
      "display_name": "Python 3"
    },
    "language_info": {
      "name": "python"
    }
  },
  "cells": [
    {
      "cell_type": "markdown",
      "metadata": {
        "id": "view-in-github",
        "colab_type": "text"
      },
      "source": [
        "<a href=\"https://colab.research.google.com/github/brendaa94/aluragit/blob/master/Alura_Python.ipynb\" target=\"_parent\"><img src=\"https://colab.research.google.com/assets/colab-badge.svg\" alt=\"Open In Colab\"/></a>"
      ]
    },
    {
      "cell_type": "markdown",
      "source": [
        "Lógica Programação com Python\n"
      ],
      "metadata": {
        "id": "wJNrE1BOeNqq"
      }
    },
    {
      "cell_type": "code",
      "execution_count": 1,
      "metadata": {
        "colab": {
          "base_uri": "https://localhost:8080/"
        },
        "id": "FtbUkPNFd1Hr",
        "outputId": "2dc54a31-ed3a-4c5c-e60b-b46e6655d794"
      },
      "outputs": [
        {
          "output_type": "stream",
          "name": "stdout",
          "text": [
            "brenda\n"
          ]
        }
      ],
      "source": [
        "nome = 'brenda'\n",
        "print (nome)"
      ]
    },
    {
      "cell_type": "code",
      "source": [
        "idade = 18"
      ],
      "metadata": {
        "id": "t6v16BTpiRa3"
      },
      "execution_count": 2,
      "outputs": []
    },
    {
      "cell_type": "code",
      "source": [
        "def saudacao ():\n",
        "  nome= input ('Qual seu nome?')\n",
        "  print (f'Olá {nome}')"
      ],
      "metadata": {
        "id": "j3hMBYnYfYCs"
      },
      "execution_count": 3,
      "outputs": []
    },
    {
      "cell_type": "code",
      "source": [
        "saudacao()"
      ],
      "metadata": {
        "colab": {
          "base_uri": "https://localhost:8080/"
        },
        "id": "uCN2YEqFfo_H",
        "outputId": "706c9c7f-9354-48cf-e72b-470ad92da721"
      },
      "execution_count": 4,
      "outputs": [
        {
          "output_type": "stream",
          "name": "stdout",
          "text": [
            "Qual seu nome?brenda\n",
            "Olá brenda\n"
          ]
        }
      ]
    },
    {
      "cell_type": "code",
      "source": [
        "nome = 'Brenda'\n"
      ],
      "metadata": {
        "id": "TG-dfMmYgzVG"
      },
      "execution_count": 5,
      "outputs": []
    },
    {
      "cell_type": "code",
      "source": [
        "def saudacao_com_parametro (nome_da_pessoa):\n",
        "  print(f' Olá {nome_da_pessoa}')"
      ],
      "metadata": {
        "id": "XhCfZex4g2pW"
      },
      "execution_count": 6,
      "outputs": []
    },
    {
      "cell_type": "code",
      "source": [
        "saudacao_com_parametro (nome)"
      ],
      "metadata": {
        "colab": {
          "base_uri": "https://localhost:8080/"
        },
        "id": "9Xat9C5ihMfy",
        "outputId": "5d5de6d7-7f31-4ec3-f4db-a4114c7acda3"
      },
      "execution_count": 7,
      "outputs": [
        {
          "output_type": "stream",
          "name": "stdout",
          "text": [
            " Olá Brenda\n"
          ]
        }
      ]
    },
    {
      "cell_type": "markdown",
      "source": [
        "Condicional e Conversão de Tipo\n",
        "\n"
      ],
      "metadata": {
        "id": "wBchRfAKh7uH"
      }
    },
    {
      "cell_type": "code",
      "source": [
        "idade = 20\n",
        "\n",
        "def verificar_dirigir (idade):\n",
        "  if idade >=18:\n",
        "    print ('Possui Permissão.')\n",
        "  else:\n",
        "    print ('Não possui Permissão.')\n",
        "verificar_dirigir(idade)"
      ],
      "metadata": {
        "colab": {
          "base_uri": "https://localhost:8080/"
        },
        "id": "d7h45WjPiAnJ",
        "outputId": "e1efad94-6741-4ccb-8ccf-bc4d73849990"
      },
      "execution_count": 8,
      "outputs": [
        {
          "output_type": "stream",
          "name": "stdout",
          "text": [
            "Possui Permissão.\n"
          ]
        }
      ]
    },
    {
      "cell_type": "code",
      "source": [
        "\n",
        "def verificar_dirigir_sem_parametros ():\n",
        "  idade = input ('Quantos anos você tem?')\n",
        "  idade = int(idade)\n",
        "  if idade >= 18:\n",
        "    print ('Possui Permissão.')\n",
        "  else:\n",
        "    print ('Não possui Permissão.')\n",
        "verificar_dirigir_sem_parametros()"
      ],
      "metadata": {
        "colab": {
          "base_uri": "https://localhost:8080/"
        },
        "id": "DLx7q9KVitKy",
        "outputId": "5369e41e-4483-4d7a-b932-7a3c6da776f3"
      },
      "execution_count": 9,
      "outputs": [
        {
          "output_type": "stream",
          "name": "stdout",
          "text": [
            "Quantos anos você tem?12\n",
            "Não possui Permissão.\n"
          ]
        }
      ]
    },
    {
      "cell_type": "markdown",
      "source": [
        "Listas"
      ],
      "metadata": {
        "id": "tCxvXiRPkA65"
      }
    },
    {
      "cell_type": "code",
      "source": [
        "type(idade)\n"
      ],
      "metadata": {
        "colab": {
          "base_uri": "https://localhost:8080/"
        },
        "id": "zIX05pL9kCx4",
        "outputId": "e7a60206-219c-4af1-f255-4429d052b793"
      },
      "execution_count": 10,
      "outputs": [
        {
          "output_type": "execute_result",
          "data": {
            "text/plain": [
              "int"
            ]
          },
          "metadata": {},
          "execution_count": 10
        }
      ]
    },
    {
      "cell_type": "code",
      "source": [
        "idades = [18 ,22,15,56]\n",
        "type(idades)"
      ],
      "metadata": {
        "colab": {
          "base_uri": "https://localhost:8080/"
        },
        "id": "u50UOfMJkLYu",
        "outputId": "e84a6f83-820f-4a1b-c5c6-2c1fbbf45ef5"
      },
      "execution_count": 11,
      "outputs": [
        {
          "output_type": "execute_result",
          "data": {
            "text/plain": [
              "list"
            ]
          },
          "metadata": {},
          "execution_count": 11
        }
      ]
    },
    {
      "cell_type": "code",
      "source": [
        "idades[2]"
      ],
      "metadata": {
        "colab": {
          "base_uri": "https://localhost:8080/"
        },
        "id": "Y0-osyv1kSzf",
        "outputId": "d6bf6c7c-4ae7-4a2e-ec8c-c14b7aad11b3"
      },
      "execution_count": 12,
      "outputs": [
        {
          "output_type": "execute_result",
          "data": {
            "text/plain": [
              "15"
            ]
          },
          "metadata": {},
          "execution_count": 12
        }
      ]
    },
    {
      "cell_type": "code",
      "source": [
        "idades [0:2]"
      ],
      "metadata": {
        "colab": {
          "base_uri": "https://localhost:8080/"
        },
        "id": "s_QaDhKIkdMK",
        "outputId": "aef2d7a6-343b-4738-b068-e1bbfcd91ca1"
      },
      "execution_count": 13,
      "outputs": [
        {
          "output_type": "execute_result",
          "data": {
            "text/plain": [
              "[18, 22]"
            ]
          },
          "metadata": {},
          "execution_count": 13
        }
      ]
    },
    {
      "cell_type": "code",
      "source": [
        "idades[1:]"
      ],
      "metadata": {
        "colab": {
          "base_uri": "https://localhost:8080/"
        },
        "id": "ZGAUDWNQkk4n",
        "outputId": "8f667e75-1a90-47ca-8f26-749c1f72b7ca"
      },
      "execution_count": 14,
      "outputs": [
        {
          "output_type": "execute_result",
          "data": {
            "text/plain": [
              "[22, 15, 56]"
            ]
          },
          "metadata": {},
          "execution_count": 14
        }
      ]
    },
    {
      "cell_type": "code",
      "source": [
        "idades\n"
      ],
      "metadata": {
        "id": "7ZmmGbX1lVQu"
      },
      "execution_count": null,
      "outputs": []
    },
    {
      "cell_type": "markdown",
      "source": [
        "Laços e Loops"
      ],
      "metadata": {
        "id": "73cvB16YlZTH"
      }
    },
    {
      "cell_type": "code",
      "source": [
        "#for fora da função\n",
        "def verificar_dirigir (idade):\n",
        "  if idade >=18:\n",
        "    print (f' {idade} anos - Possui Permissão.')\n",
        "  else:\n",
        "    print (f' {idade} anos - Não Possui Permissão.')\n",
        "for idade in idades:\n",
        "  verificar_dirigir(idade)"
      ],
      "metadata": {
        "colab": {
          "base_uri": "https://localhost:8080/"
        },
        "id": "Ep6rM-79la98",
        "outputId": "b8e8c6ad-c03e-459d-f3cf-124d54d93ccc"
      },
      "execution_count": 15,
      "outputs": [
        {
          "output_type": "stream",
          "name": "stdout",
          "text": [
            " 18 anos - Possui Permissão.\n",
            " 22 anos - Possui Permissão.\n",
            " 15 anos - Não Possui Permissão.\n",
            " 56 anos - Possui Permissão.\n"
          ]
        }
      ]
    },
    {
      "cell_type": "code",
      "source": [
        "#for dentro da função\n",
        "def verificar_dirigir (idades):\n",
        "  for idade in idades:\n",
        "    if idade >=18:\n",
        "      print (f' {idade} anos - Possui Permissão.')\n",
        "    else:\n",
        "      print (f' {idade} anos - Não Possui Permissão.')\n",
        "verificar_dirigir(idades)"
      ],
      "metadata": {
        "colab": {
          "base_uri": "https://localhost:8080/"
        },
        "id": "-WVaeSnEmWLr",
        "outputId": "03d91a5f-fd75-4565-94c3-1bfb6d348a26"
      },
      "execution_count": 16,
      "outputs": [
        {
          "output_type": "stream",
          "name": "stdout",
          "text": [
            " 18 anos - Possui Permissão.\n",
            " 22 anos - Possui Permissão.\n",
            " 15 anos - Não Possui Permissão.\n",
            " 56 anos - Possui Permissão.\n"
          ]
        }
      ]
    },
    {
      "cell_type": "markdown",
      "source": [
        "Boleano"
      ],
      "metadata": {
        "id": "kUW_ySGYmvqy"
      }
    },
    {
      "cell_type": "code",
      "source": [
        "idade=15\n",
        "idade>=18\n"
      ],
      "metadata": {
        "colab": {
          "base_uri": "https://localhost:8080/"
        },
        "id": "cPDoVDSYmyob",
        "outputId": "c8003a80-a8ac-4fcb-fb22-fef5a06fa30e"
      },
      "execution_count": 17,
      "outputs": [
        {
          "output_type": "execute_result",
          "data": {
            "text/plain": [
              "False"
            ]
          },
          "metadata": {},
          "execution_count": 17
        }
      ]
    },
    {
      "cell_type": "code",
      "source": [
        "permissoes =[]\n",
        "idades =[20,14,40]\n",
        "def verificar_dirigir(idades, permissoes):\n",
        "  for idade in idades:\n",
        "    if idade>= 18:\n",
        "      permissoes.append(True)\n",
        "    else: \n",
        "      permissoes.append(False)\n",
        "\n",
        "verificar_dirigir(idades,permissoes)"
      ],
      "metadata": {
        "id": "gC6uaEljm5rR"
      },
      "execution_count": 18,
      "outputs": []
    },
    {
      "cell_type": "code",
      "source": [
        "permissoes"
      ],
      "metadata": {
        "colab": {
          "base_uri": "https://localhost:8080/"
        },
        "id": "qYvygDr4oISu",
        "outputId": "5d8a758f-1373-4243-b52c-7e6c95752a63"
      },
      "execution_count": 19,
      "outputs": [
        {
          "output_type": "execute_result",
          "data": {
            "text/plain": [
              "[True, False, True]"
            ]
          },
          "metadata": {},
          "execution_count": 19
        }
      ]
    },
    {
      "cell_type": "code",
      "source": [
        "for permissao in permissoes:\n",
        "  if  permissao == True:\n",
        "    print('Tem permissão para Dirigir')\n",
        "  else:\n",
        "     print('Não tem permissão para Dirigir')\n",
        "     "
      ],
      "metadata": {
        "colab": {
          "base_uri": "https://localhost:8080/"
        },
        "id": "sT7Irz80oP4_",
        "outputId": "b7b03844-57b3-40b0-dfb8-d4eecb01de96"
      },
      "execution_count": 20,
      "outputs": [
        {
          "output_type": "stream",
          "name": "stdout",
          "text": [
            "Tem permissão para Dirigir\n",
            "Não tem permissão para Dirigir\n",
            "Tem permissão para Dirigir\n"
          ]
        }
      ]
    },
    {
      "cell_type": "markdown",
      "source": [
        "Tipos em uma lista\n"
      ],
      "metadata": {
        "id": "HKAAgDPgpJo6"
      }
    },
    {
      "cell_type": "code",
      "source": [
        "lista = ['Brenda',28,True, '18']\n",
        "for elemento in lista:\n",
        "  print(f'O elemento {elemento}, é do tipo: ', type(elemento))"
      ],
      "metadata": {
        "colab": {
          "base_uri": "https://localhost:8080/"
        },
        "id": "H1GfZZBOpMHV",
        "outputId": "97e5a075-07d5-4920-cfc5-e32a592f26b5"
      },
      "execution_count": 21,
      "outputs": [
        {
          "output_type": "stream",
          "name": "stdout",
          "text": [
            "O elemento Brenda, é do tipo:  <class 'str'>\n",
            "O elemento 28, é do tipo:  <class 'int'>\n",
            "O elemento True, é do tipo:  <class 'bool'>\n",
            "O elemento 18, é do tipo:  <class 'str'>\n"
          ]
        }
      ]
    },
    {
      "cell_type": "markdown",
      "source": [
        "Imports"
      ],
      "metadata": {
        "id": "g9WNAzgRvSHF"
      }
    },
    {
      "cell_type": "code",
      "source": [
        "from random import randrange, seed\n",
        "randrange (0,10)\n",
        "seed(11)"
      ],
      "metadata": {
        "id": "ZsiVG6oovUrM"
      },
      "execution_count": 22,
      "outputs": []
    },
    {
      "cell_type": "code",
      "source": [
        "notas_matematica = []\n",
        "\n",
        "for notas in range(8):\n",
        "    notas_matematica.append(randrange(0,11))\n",
        "\n",
        "notas_matematica"
      ],
      "metadata": {
        "colab": {
          "base_uri": "https://localhost:8080/"
        },
        "id": "lzW8NXVjvn19",
        "outputId": "f851cdb8-2efb-4316-fb1c-d1e908fc80ed"
      },
      "execution_count": 42,
      "outputs": [
        {
          "output_type": "execute_result",
          "data": {
            "text/plain": [
              "[8, 3, 10, 4, 7, 0, 10, 1]"
            ]
          },
          "metadata": {},
          "execution_count": 42
        }
      ]
    },
    {
      "cell_type": "code",
      "source": [
        "len(notas_matematica)"
      ],
      "metadata": {
        "colab": {
          "base_uri": "https://localhost:8080/"
        },
        "id": "-ayavNAxw-DV",
        "outputId": "d27cedcc-89db-45c6-de06-829954b122eb"
      },
      "execution_count": 36,
      "outputs": [
        {
          "output_type": "execute_result",
          "data": {
            "text/plain": [
              "9"
            ]
          },
          "metadata": {},
          "execution_count": 36
        }
      ]
    },
    {
      "cell_type": "markdown",
      "source": [
        "Gráficos (Matplotlib)"
      ],
      "metadata": {
        "id": "cGjYsIufxTbV"
      }
    },
    {
      "cell_type": "code",
      "source": [
        "import matplotlib.pyplot as plt\n",
        "x = list(range(1,9))\n",
        "y = notas_matematica\n",
        "print(x,y)"
      ],
      "metadata": {
        "colab": {
          "base_uri": "https://localhost:8080/"
        },
        "id": "2JejCCzKxU9Z",
        "outputId": "c222e358-917f-4c71-accc-48330133c19a"
      },
      "execution_count": 45,
      "outputs": [
        {
          "output_type": "stream",
          "name": "stdout",
          "text": [
            "[1, 2, 3, 4, 5, 6, 7, 8] [8, 3, 10, 4, 7, 0, 10, 1]\n"
          ]
        }
      ]
    },
    {
      "cell_type": "code",
      "source": [
        "plt.plot(x, y, marker='o')\n",
        "plt.title('Notas de matemática')\n",
        "plt.xlabel('Provas')\n",
        "plt.ylabel('Notas')\n",
        "plt.show()"
      ],
      "metadata": {
        "colab": {
          "base_uri": "https://localhost:8080/",
          "height": 295
        },
        "id": "Ov6MuAo40Ib1",
        "outputId": "da67e0f1-bcce-46e8-8a8b-8aeff0c502bb"
      },
      "execution_count": 46,
      "outputs": [
        {
          "output_type": "display_data",
          "data": {
            "text/plain": [
              "<Figure size 432x288 with 1 Axes>"
            ],
            "image/png": "[encoded data removed]"
          },
          "metadata": {
            "needs_background": "light"
          }
        }
      ]
    }
  ]
}